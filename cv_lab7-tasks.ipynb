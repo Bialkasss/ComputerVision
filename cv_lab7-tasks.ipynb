{
 "cells": [
  {
   "cell_type": "markdown",
   "metadata": {},
   "source": [
    "Maria Musial 156062"
   ]
  },
  {
   "cell_type": "markdown",
   "metadata": {
    "id": "S_r0j8Xuqsga"
   },
   "source": [
    "# Computer vision - Lab 7"
   ]
  },
  {
   "cell_type": "markdown",
   "metadata": {
    "id": "qVWBS5p-r5j9"
   },
   "source": [
    "## Agenda"
   ]
  },
  {
   "cell_type": "markdown",
   "metadata": {
    "id": "cd2FzMMMr9kr"
   },
   "source": [
    "Image segmentation based on:\n",
    "- thresholding\n",
    "- cluster analysis,\n",
    "- detecting image features (e.g. edges),\n",
    "- region growing,\n",
    "\n"
   ]
  },
  {
   "cell_type": "markdown",
   "metadata": {
    "id": "WMJXpBTXtET5"
   },
   "source": [
    "## Helpers"
   ]
  },
  {
   "cell_type": "code",
   "execution_count": null,
   "metadata": {
    "id": "XE5KwNqA3Ots"
   },
   "outputs": [],
   "source": [
    "\n",
    "%matplotlib inline\n",
    "import glob\n",
    "\n",
    "import cv2\n",
    "import matplotlib.pyplot as plt\n",
    "import numpy as np\n",
    "import pandas as pd\n",
    "import PIL\n",
    "import plotly.graph_objects as go\n",
    "import plotly.io as pio\n",
    "from IPython.display import HTML, display\n",
    "from matplotlib.colors import ListedColormap\n",
    "from pandas import DataFrame\n",
    "from sklearn.mixture import GaussianMixture\n",
    "\n",
    "pd.options.display.html.border = 0\n",
    "pd.options.display.float_format = '{:,.2f}'.format"
   ]
  },
  {
   "cell_type": "markdown",
   "metadata": {
    "id": "pmmZh-IZ3o43"
   },
   "source": [
    "### Images"
   ]
  },
  {
   "cell_type": "markdown",
   "metadata": {
    "id": "du-h1aTru9ES"
   },
   "source": [
    "*  Image Lenna (available at the [link](http://www.lenna.org/)) - one of the most popular images historically used for testing image processing and compression,\n",
    "* clevr -comes from the CLEVR dataset that deals with the  Visual Query Answering problem,\n",
    "* graf - sample graffiti image from the OpenCV repository OpenCV,\n",
    "* sudoku - sample sudoku image from OpenCV repository,\n",
    "* skittles - several images containing skittles"
   ]
  },
  {
   "cell_type": "code",
   "execution_count": null,
   "metadata": {
    "colab": {
     "base_uri": "https://localhost:8080/"
    },
    "id": "oV4aWjegtCKx",
    "outputId": "74b107bc-75e8-4dc3-bf77-5589d01b135a"
   },
   "outputs": [],
   "source": [
    "# # download images\n",
    "# !wget -O lena_std.tif http://www.lenna.org/lena_std.tif\n",
    "# !wget -O clevr.jpg https://cs.stanford.edu/people/jcjohns/clevr/teaser.jpg\n",
    "# !wget -O graf.png https://github.com/opencv/opencv/raw/master/samples/data/graf1.png\n",
    "# !wget -O sudoku.png https://raw.githubusercontent.com/opencv/opencv/master/samples/data/sudoku.png\n",
    "\n",
    "# for i in range(100, 111):\n",
    "#     !wget -O skittles{i}.jpg https://github.com/possibly-wrong/skittles/blob/master/images/{i}.jpg?raw=true\n",
    "\n"
   ]
  },
  {
   "cell_type": "markdown",
   "metadata": {
    "id": "b3desh1dBMaw"
   },
   "source": [
    "### Visualization\n"
   ]
  },
  {
   "cell_type": "code",
   "execution_count": null,
   "metadata": {
    "id": "VCHL_RVqunsJ"
   },
   "outputs": [],
   "source": [
    "def imshow(a):\n",
    "    a = a.clip(0, 255).astype(\"uint8\")\n",
    "    if a.ndim == 3:\n",
    "        if a.shape[2] == 4:\n",
    "            a = cv2.cvtColor(a, cv2.COLOR_BGRA2RGBA)\n",
    "        else:\n",
    "            a = cv2.cvtColor(a, cv2.COLOR_BGR2RGB)\n",
    "    display(PIL.Image.fromarray(a))"
   ]
  },
  {
   "cell_type": "code",
   "execution_count": null,
   "metadata": {
    "id": "wWCxEvekEKex"
   },
   "outputs": [],
   "source": [
    "css = \"\"\"\n",
    "<style type=\"text/css\">\n",
    "  table, td, table.dataframe, table.dataframe td {\n",
    "    border: 1px solid black;    //border: double;\n",
    "    border-collapse: collapse;\n",
    "    border-style: solid;\n",
    "    border-spacing: 0px;\n",
    "    background-color: rgb(250,250,250);\n",
    "    width: 18px;\n",
    "    height: 18px;\n",
    "    text-align: center;\n",
    "    transform: scale(1.0);\n",
    "    margin: 2px;\n",
    "    }\n",
    "</style>\n",
    "\"\"\"\n",
    "\n",
    "\n",
    "def h(s):\n",
    "    return display(HTML(css + DataFrame(s).to_html(header=False, index=False)))"
   ]
  },
  {
   "cell_type": "code",
   "execution_count": null,
   "metadata": {
    "id": "LK2Em3Y6fQBS"
   },
   "outputs": [],
   "source": [
    "def h_color(a, cmap=\"gray\", scale=2):\n",
    "    s = [a.shape[0] * scale, a.shape[1] * scale]\n",
    "    plt.figure(figsize=s)\n",
    "    plt.tick_params(\n",
    "        axis=\"both\",\n",
    "        which=\"both\",\n",
    "        bottom=False,\n",
    "        top=False,\n",
    "        labelbottom=False,\n",
    "        labelleft=False,\n",
    "        left=False,\n",
    "        right=False,\n",
    "    )\n",
    "    plt.imshow(a, cmap=cmap)"
   ]
  },
  {
   "cell_type": "code",
   "execution_count": null,
   "metadata": {
    "id": "VabMXJfTc5wq"
   },
   "outputs": [],
   "source": [
    "cmap = ListedColormap(\n",
    "    [\n",
    "        \"black\",\n",
    "        \"tomato\",\n",
    "        \"chocolate\",\n",
    "        \"darkorange\",\n",
    "        \"gold\",\n",
    "        \"olive\",\n",
    "        \"green\",\n",
    "        \"deepskyblue\",\n",
    "        \"blueviolet\",\n",
    "        \"hotpink\",\n",
    "    ]\n",
    ")\n",
    "\n",
    "\n",
    "def h_grid(grid, scale=1):\n",
    "    h_color(grid, cmap, scale)"
   ]
  },
  {
   "cell_type": "code",
   "execution_count": null,
   "metadata": {
    "id": "OZngoUIAXR_f"
   },
   "outputs": [],
   "source": [
    "def pix_show(pixels, skip_each=1, height=400, width=400, colors=None):\n",
    "    pixels = pixels[::skip_each]\n",
    "    if colors is None:\n",
    "        colors = pixels[:, ::-1]\n",
    "    else:\n",
    "        colors = colors[::skip_each]\n",
    "    b, g, r = pixels[:, 0], pixels[:, 1], pixels[:, 2]\n",
    "    fig = go.Figure(\n",
    "        data=[\n",
    "            go.Scatter3d(\n",
    "                x=b,\n",
    "                y=g,\n",
    "                z=r,\n",
    "                mode=\"markers\",\n",
    "                marker={\"size\": 2, \"color\": colors, \"opacity\": 0.7},\n",
    "            )\n",
    "        ],\n",
    "        layout_xaxis_range=[0, 1],\n",
    "        layout_yaxis_range=[0, 1],\n",
    "    )\n",
    "    scene = {\n",
    "        \"xaxis\": dict(title=\"Blue\"),\n",
    "        \"yaxis\": dict(title=\"Green\"),\n",
    "        \"zaxis\": dict(title=\"Red\"),\n",
    "    }\n",
    "    fig.update_layout(\n",
    "        autosize=False, height=height, width=width, scene=scene, showlegend=True\n",
    "    )\n",
    "    pio.show(fig)"
   ]
  },
  {
   "cell_type": "markdown",
   "metadata": {
    "id": "fB4CzX1W0vSA"
   },
   "source": [
    "# Tasks"
   ]
  },
  {
   "cell_type": "markdown",
   "metadata": {
    "id": "uItcZviK07i3"
   },
   "source": [
    "## Task 1\n",
    "\n",
    "Like the section on multi-channel image segmentation, perform the same pixel intensity cluster analysis for the './skittles100.jpg' image and then segment the image using the K-Means algorithm (available, among others, in the scikit library: sklearn.cluster.KMeans) .\n",
    "\n",
    "Present the intermediate results:\n",
    "- BGR input image\n",
    "- BGR pixels in 3D space,\n",
    "- segmentation result on BGR pixels in 3D space,\n",
    "- segmentation result as a 2D image (BGR)\n",
    "\n"
   ]
  },
  {
   "cell_type": "code",
   "execution_count": null,
   "metadata": {
    "id": "tTPf6PYM1Xf5"
   },
   "outputs": [],
   "source": [
    "from sklearn.cluster import KMeans\n",
    "\n",
    "skittles = cv2.imread(\"skittles100.jpg\", cv2.IMREAD_COLOR)\n",
    "imshow(cv2.resize(skittles, None, fx=0.4, fy=0.4))\n",
    "skittles_pixels = skittles.reshape([-1, 3])\n",
    "pix_show(skittles_pixels, 16)\n"
   ]
  },
  {
   "cell_type": "markdown",
   "metadata": {},
   "source": [
    "Elbow method to get number of clusters that will work well with our segmentation later"
   ]
  },
  {
   "cell_type": "code",
   "execution_count": null,
   "metadata": {},
   "outputs": [],
   "source": [
    "\n",
    "data = skittles_pixels\n",
    "def elbow_method(data, k_range):\n",
    "    inertia = [] # list to store the inertia values\n",
    "\n",
    "    for k in k_range: # iterate over the range of k values\n",
    "        kmeans = KMeans(n_clusters=k, n_init='auto') # create a KMeans instance with k clusters\n",
    "        kmeans.fit(data) # fit the data to the KMeans instance\n",
    "        inertia.append(kmeans.inertia_) # append the inertia value to the inertia list\n",
    "\n",
    "    plt.figure(figsize=(8, 4))\n",
    "    plt.plot(k_range, inertia, marker='o')\n",
    "    plt.xlabel('Number of clusters (k)')\n",
    "    plt.ylabel('Inertia')\n",
    "    plt.title('Elbow Method for Optimal k')\n",
    "    plt.grid(True)\n",
    "    plt.show()\n",
    "\n",
    "elbow_method(data, range(1, 12)) # call the elbow_method function with the data and a range of k values"
   ]
  },
  {
   "cell_type": "code",
   "execution_count": null,
   "metadata": {},
   "outputs": [],
   "source": [
    "kmeans = KMeans(n_clusters=9, n_init='auto', random_state=42).fit(skittles_pixels)\n",
    "segments = kmeans.predict(skittles_pixels)\n",
    "\n",
    "\n",
    "segments_colors = np.stack([skittles_pixels[segments==i].mean(0) for i in range(9)], 0)  #get colors of each segment\n",
    "\n",
    "colors = np.take(segments_colors, segments, 0)  #map colors to pixels\n",
    "pix_show(skittles_pixels, 16, colors=colors[:, ::-1])\n",
    "\n",
    "segmented = colors.reshape(skittles.shape)\n",
    "imshow(cv2.resize(np.concatenate([skittles, segmented], 1), None, fx=0.4, fy=0.4))\n"
   ]
  },
  {
   "cell_type": "markdown",
   "metadata": {
    "id": "-ZcA4bcC09Hw"
   },
   "source": [
    "## Task 2\n",
    "Using the methods you learned in the previous class, find the number of Skittles in the image './skittles100.jpg'. (it is not necessary to use the solution from task 1)\n",
    "**Show intermediate results and describe the processing steps in the comment.**\n",
    "\n",
    "Show the original image with founded individual skittles marked on it.\n",
    "\n",
    "\n"
   ]
  },
  {
   "cell_type": "markdown",
   "metadata": {},
   "source": [
    "#### How it works:\n",
    "- get_segmented_explainable: read image, reshape to 1D array, fit KMeans, predict clusters, unify background, get colors of each cluster, map colors to pixels, reshape to image\n",
    "    (I tried Gaussian blur, but it gave worse results.)\n",
    "- count_skittles_explainable: binarizing image, deleting corners, closing in opening to separate skittles, growing circles back to skittles size, counting regions, getting edges of found skittles\n",
    "- put_edges_explainable: putting the edges on the image, visualising results\n",
    "\n",
    "All those functions have their version suited for task3, so that my computer doesnt explode when generating images and graphs.\n"
   ]
  },
  {
   "cell_type": "code",
   "execution_count": null,
   "metadata": {},
   "outputs": [],
   "source": [
    "#read image, reshape to 1D array, fit KMeans, predict clusters, unify background, get colors of each cluster, map colors to pixels, reshape to image\n",
    "    #Gaussian blur gave worse results.\n",
    "    \n",
    "def get_segmented_explainable(path):\n",
    "    skittles = cv2.imread(path, cv2.IMREAD_COLOR)\n",
    "    imshow(cv2.resize(skittles, None, fx=0.4, fy=0.4))\n",
    "    skittles_pixels = skittles.reshape([-1, 3])\n",
    "    print(\"Pixels in RGB space:\")\n",
    "    pix_show(skittles_pixels, 16)\n",
    "    kmeans = KMeans(n_clusters=9, n_init='auto', random_state=42).fit(skittles_pixels)\n",
    "    segments = kmeans.predict(skittles_pixels)\n",
    "    segments_colors = np.stack([skittles_pixels[segments==i].mean(0) for i in range(9)], 0)  #get colors of each segment\n",
    "\n",
    "    colors = np.take(segments_colors, segments, 0)  #map colors to pixels\n",
    "    print(\"Pixels clustered:\")\n",
    "    pix_show(skittles_pixels, 16, colors=colors[:, ::-1])\n",
    "\n",
    "    segmented = colors.reshape(skittles.shape)\n",
    "    print(\"Segmented image:\")\n",
    "    imshow(cv2.resize(np.concatenate([skittles, segmented], 1), None, fx=0.4, fy=0.4))\n",
    "    cols=[]\n",
    "    for color in segments_colors:\n",
    "        cols.append(np.full((100,100,3),color))\n",
    "    imshow(cv2.resize(np.concatenate(cols, 1), None, fx=0.4, fy=0.4))\n",
    "\n",
    "    #I want to unify background, get all grey segments and reassign values to one of greys\n",
    "    grey_segments = []\n",
    "    grey_color = np.array([128, 128, 128])\n",
    "    for i, color in enumerate(segments_colors):\n",
    "        if np.allclose(color, grey_color, atol=100):\n",
    "            grey_segments.append(i)  \n",
    "    print(\"Background clusters:\", grey_segments)\n",
    "    segments[np.isin(segments, grey_segments)] = grey_segments[0]  # get background to be one\n",
    "\n",
    "    segments_colors = []\n",
    "    for i in range(9):\n",
    "        segment_pixels = skittles_pixels[segments == i]\n",
    "        if segment_pixels.size > 0:\n",
    "            segment_mean = segment_pixels.mean(0)\n",
    "            segments_colors.append(segment_mean)\n",
    "        else:\n",
    "            segments_colors.append(np.array([128, 128, 128], dtype=np.uint8))  # Default grey color for empty segments\n",
    "    segments_colors = np.array(segments_colors, dtype=np.uint8)\n",
    "\n",
    "    colors = np.take(segments_colors, segments, 0)  #map colors to pixels\n",
    "\n",
    "    segmented = colors.reshape(skittles.shape)\n",
    "    print(\"Segmented image with unified background:\")\n",
    "    imshow(cv2.resize(np.concatenate([skittles, segmented], 1), None, fx=0.4, fy=0.4))\n",
    "    return segmented\n",
    "\n",
    "\n",
    "#binarizing image, deleting corners, closing in opening to separate skittles, growing circles back to skittles size, counting regions, getting edges of found skittles, visualising results\n",
    "def count_skittles_explainable(image):\n",
    "    #WHAT ARE WE WORKING ON\n",
    "    bin_skit = (image[:, :, 0] > 100).astype(np.uint8) * 255\n",
    "    bin_skit = cv2.bitwise_not(bin_skit)\n",
    "    print(\"The image we're counting skittles on:\")\n",
    "    imshow(cv2.resize(image, None, fx=0.4, fy=0.4))\n",
    "\n",
    "    print(\"The binarized version:\")\n",
    "    imshow(cv2.resize(bin_skit, None, fx=0.4, fy=0.4))\n",
    "\n",
    "\n",
    "    #Deleting corners\n",
    "    height, width = bin_skit.shape\n",
    "    corner_size = 50  # Size of the corner regions to mask\n",
    "    mask = np.full(bin_skit.shape, 255, dtype=np.uint8)\n",
    "    corner_positions = [\n",
    "        (0, 0), \n",
    "        (width - corner_size, 0), \n",
    "        (0, height - corner_size),  \n",
    "        (width - corner_size, height - corner_size)  \n",
    "    ]\n",
    "    for x, y in corner_positions:\n",
    "        cv2.rectangle(mask, (x, y), (x + corner_size, y + corner_size), 0, -1)\n",
    "    bin_skit[mask == 0] = 0\n",
    "    print(\"Deleted corners, to focus on skittles:\")\n",
    "    imshow(cv2.resize(bin_skit, None, fx=0.4, fy=0.4))\n",
    "\n",
    "\n",
    "    #CLOSING IN OPENING TO SEPARATE SKITTLES\n",
    "    struct = np.ones((3, 3), np.uint8)\n",
    "\n",
    "    clos = cv2.dilate(bin_skit, struct, iterations=4)\n",
    "    kernel = cv2.getStructuringElement(cv2.MORPH_ELLIPSE, (3, 3))  \n",
    "    img_bin_dil = cv2.erode(clos, struct, iterations=13)\n",
    "    img_bin_dil_ker = cv2.erode(img_bin_dil, kernel, iterations=16)             #right number of skittles!!!!\n",
    "\n",
    "    print(\"Closing to close 's' on skittles, erosion to separate them to be able to count them\")\n",
    "    imshow(cv2.resize(np.concatenate([img_bin_dil, img_bin_dil_ker],1), None, fx=0.4, fy=0.4))\n",
    "    \n",
    "    num_labels, labels = cv2.connectedComponents(img_bin_dil_ker)\n",
    "    print(f\"Number of regions (skittles): {num_labels - 1}\")\n",
    "\n",
    "\n",
    "    #Grow circles back to skittles size\n",
    "    kernel = np.ones((30,30), np.uint8)  \n",
    "    grown_regions = np.zeros_like(img_bin_dil_ker, dtype=np.uint8)\n",
    "    for label in range(1, num_labels):  \n",
    "        label_mask = np.uint8(labels == label) * 255\n",
    "        dilated_mask = cv2.dilate(label_mask, kernel, iterations=1)\n",
    "        grown_regions = cv2.bitwise_or(grown_regions, dilated_mask)\n",
    "        \n",
    "    edges = cv2.Canny(grown_regions, threshold1=100, threshold2=200)\n",
    "    print(\"Growing regions back to skittles size, edges:\")\n",
    "    imshow(cv2.resize(np.concatenate([img_bin_dil_ker, grown_regions, edges], 1), None, fx=0.4, fy=0.4))  \n",
    "    return num_labels - 1, edges\n",
    "\n",
    "\n",
    "def put_edges_exp(path):\n",
    "    skittles, edges = count_skittles_explainable(get_segmented_explainable(path))    \n",
    "    image = cv2.imread(path, cv2.IMREAD_COLOR)\n",
    "    edges_rgb = cv2.cvtColor(edges, cv2.COLOR_GRAY2BGR)\n",
    "    imshow(cv2.resize(np.concatenate([image, edges_rgb], 1), None, fx=0.4, fy=0.4))\n",
    "    edges_mask = edges_rgb == 255\n",
    "    image[edges_mask] = 255\n",
    "    return image\n",
    "\n",
    "#VISUALISING THE RESULTS FOR TASK3, just image->results\n",
    "def count_skittles(image):\n",
    "    #WHAT ARE WE WORKING ON\n",
    "    bin_skit = (image[:, :, 0] > 100).astype(np.uint8) * 255\n",
    "    bin_skit = cv2.bitwise_not(bin_skit)\n",
    "\n",
    "    #Deleting corners\n",
    "    height, width = bin_skit.shape\n",
    "    corner_size = 50  # Size of the corner regions to mask\n",
    "    mask = np.full(bin_skit.shape, 255, dtype=np.uint8)\n",
    "    corner_positions = [\n",
    "        (0, 0), \n",
    "        (width - corner_size, 0), \n",
    "        (0, height - corner_size),  \n",
    "        (width - corner_size, height - corner_size)  \n",
    "    ]\n",
    "    for x, y in corner_positions:\n",
    "        cv2.rectangle(mask, (x, y), (x + corner_size, y + corner_size), 0, -1)\n",
    "    bin_skit[mask == 0] = 0\n",
    "\n",
    "\n",
    "    #CLOSING IN OPENING TO SEPARATE SKITTLES\n",
    "    struct = np.ones((3, 3), np.uint8)\n",
    "\n",
    "    clos = cv2.dilate(bin_skit, struct, iterations=4)\n",
    "    kernel = cv2.getStructuringElement(cv2.MORPH_ELLIPSE, (3, 3))  \n",
    "    img_bin_dil = cv2.erode(clos, struct, iterations=13)\n",
    "    img_bin_dil_ker = cv2.erode(img_bin_dil, kernel, iterations=16)             #right number of skittles!!!!\n",
    "    \n",
    "    num_labels, labels = cv2.connectedComponents(img_bin_dil_ker)\n",
    "\n",
    "    #Grow circles back to skittles size\n",
    "    kernel = np.ones((30,30), np.uint8)  \n",
    "    grown_regions = np.zeros_like(img_bin_dil_ker, dtype=np.uint8)\n",
    "    for label in range(1, num_labels):  \n",
    "        label_mask = np.uint8(labels == label) * 255\n",
    "        dilated_mask = cv2.dilate(label_mask, kernel, iterations=1)\n",
    "        grown_regions = cv2.bitwise_or(grown_regions, dilated_mask)\n",
    "        \n",
    "    edges = cv2.Canny(grown_regions, threshold1=100, threshold2=200)\n",
    "    return num_labels - 1, edges\n",
    "\n",
    "def get_segmented(path):\n",
    "    skittles = cv2.imread(path, cv2.IMREAD_COLOR)\n",
    "    skittles_pixels = skittles.reshape([-1, 3])\n",
    "    kmeans = KMeans(n_clusters=9, n_init='auto', random_state=42).fit(skittles_pixels)\n",
    "    segments = kmeans.predict(skittles_pixels)\n",
    "    segments_colors = np.stack([skittles_pixels[segments==i].mean(0) for i in range(9)], 0)  #get colors of each segment\n",
    "\n",
    "    colors = np.take(segments_colors, segments, 0)  #map colors to pixels\n",
    "\n",
    "    segmented = colors.reshape(skittles.shape)\n",
    "    cols=[]\n",
    "    for color in segments_colors:\n",
    "        cols.append(np.full((100,100,3),color))\n",
    "\n",
    "    #I want to unify background\n",
    "    grey_segments = []\n",
    "    grey_color = np.array([128, 128, 128])\n",
    "    for i, color in enumerate(segments_colors):\n",
    "        if np.allclose(color, grey_color, atol=100):\n",
    "            grey_segments.append(i)  \n",
    "    segments[np.isin(segments, grey_segments)] = grey_segments[0]  # get background to be one\n",
    "\n",
    "    segments_colors = []\n",
    "    for i in range(9):\n",
    "        segment_pixels = skittles_pixels[segments == i]\n",
    "        if segment_pixels.size > 0:\n",
    "            segment_mean = segment_pixels.mean(0)\n",
    "            segments_colors.append(segment_mean)\n",
    "        else:\n",
    "            segments_colors.append(np.array([128, 128, 128], dtype=np.uint8))  # Default grey color for empty segments\n",
    "    segments_colors = np.array(segments_colors, dtype=np.uint8)\n",
    "\n",
    "    colors = np.take(segments_colors, segments, 0)  #map colors to pixels\n",
    "\n",
    "    segmented = colors.reshape(skittles.shape)\n",
    "    return segmented\n",
    "\n",
    "def put_edges_task3(path):\n",
    "    skittles, edges = count_skittles(get_segmented(path))    \n",
    "    image = cv2.imread(path, cv2.IMREAD_COLOR)\n",
    "    image_t = image.copy()\n",
    "    edges_rgb = cv2.cvtColor(edges, cv2.COLOR_GRAY2BGR)\n",
    "    edges_mask = edges_rgb == 255\n",
    "    image_t[edges_mask] = 255\n",
    "    imshow(cv2.resize(np.concatenate([image, image_t],1), None, fx=0.4, fy=0.4))\n",
    "\n",
    "\n",
    "imshow(cv2.resize(put_edges_exp(\"skittles100.jpg\"), None, fx=0.4, fy=0.4))"
   ]
  },
  {
   "cell_type": "markdown",
   "metadata": {
    "id": "u9I2hQaONPZp"
   },
   "source": [
    "## Task 3\n",
    "1. Test the solution from task 2 for the remaining skittels images.\n",
    "2. Improve the solution so that it works properly for this images."
   ]
  },
  {
   "cell_type": "code",
   "execution_count": null,
   "metadata": {
    "colab": {
     "base_uri": "https://localhost:8080/",
     "height": 1000
    },
    "id": "qZ8DxreaOFU5",
    "outputId": "d974fe8f-55be-4d50-ed2c-747be35676a9"
   },
   "outputs": [],
   "source": [
    "for file in glob.glob(\"./skittles*\"):\n",
    "    print(file)\n",
    "    skittles = cv2.imread(file, cv2.IMREAD_COLOR)\n",
    "    # imshow(cv2.resize(skittles, None, fx=0.4, fy=0.4))\n",
    "    put_edges_task3(file)\n",
    "\n",
    "\n",
    "# I improved the erosion and closing, so that it gets more skittles right. \n",
    "# Problem is with cluster of yellows in 109, and images where flash+\"s\" is quite big on skittles. \n",
    "# Noise in 103 (clump of skittles?) is dealt with.\n",
    "#Overall results are +/- 4 skittles. "
   ]
  }
 ],
 "metadata": {
  "colab": {
   "provenance": [],
   "toc_visible": true
  },
  "kernelspec": {
   "display_name": "cv_lab",
   "language": "python",
   "name": "python3"
  },
  "language_info": {
   "codemirror_mode": {
    "name": "ipython",
    "version": 3
   },
   "file_extension": ".py",
   "mimetype": "text/x-python",
   "name": "python",
   "nbconvert_exporter": "python",
   "pygments_lexer": "ipython3",
   "version": "3.8.19"
  }
 },
 "nbformat": 4,
 "nbformat_minor": 0
}
